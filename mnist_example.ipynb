{
 "cells": [
  {
   "cell_type": "markdown",
   "id": "a087d24d",
   "metadata": {},
   "source": [
    "Load libraries"
   ]
  },
  {
   "cell_type": "code",
   "execution_count": null,
   "id": "960c29af",
   "metadata": {},
   "outputs": [],
   "source": [
    "import numpy as np\n",
    "import pandas as pd\n",
    "import neural_network_backbone as nnb\n",
    "from sklearn.metrics import accuracy_score \n",
    "from keras.datasets import mnist"
   ]
  },
  {
   "cell_type": "markdown",
   "id": "53a50e24",
   "metadata": {},
   "source": [
    "Define macros"
   ]
  },
  {
   "cell_type": "code",
   "execution_count": 2,
   "id": "82801831",
   "metadata": {},
   "outputs": [],
   "source": [
    "SILENT = False\n",
    "SEED = 10101\n",
    "EPOCHS = 75\n",
    "LEARNING_RATE = 0.1\n",
    "BATCH_SIZE = 10\n",
    "np.random.seed(SEED)"
   ]
  },
  {
   "cell_type": "markdown",
   "id": "c31ebbe0",
   "metadata": {},
   "source": [
    "Define accuracy helper functions"
   ]
  },
  {
   "cell_type": "code",
   "execution_count": 3,
   "id": "04df3d98",
   "metadata": {},
   "outputs": [],
   "source": [
    "def get_progress(Y_hat, Y):\n",
    "    cost = get_cost_value(Y_hat, Y)\n",
    "    accuracy = get_accuracy_value(Y_hat, Y)\n",
    "    return \"cost: {:.5f} - accuracy: {:.5f}\".format(cost, accuracy)\n",
    "\n",
    "def one_hot(Y, num_classes):\n",
    "    return np.squeeze(np.eye(num_classes)[Y.reshape(-1)])\n",
    "\n",
    "def convert_prob_into_class(probs):\n",
    "    return np.array([[1. if prob == max(v) else 0. for prob in v] for v in probs]).reshape(probs.shape)\n",
    "\n",
    "def get_accuracy_value(Y_hat, Y):\n",
    "    Y = one_hot(Y, n_outputs)\n",
    "    Y_hat_ = convert_prob_into_class(Y_hat.T)\n",
    "    return accuracy_score(Y, Y_hat_)"
   ]
  },
  {
   "cell_type": "code",
   "execution_count": 4,
   "id": "1023f7ba",
   "metadata": {},
   "outputs": [],
   "source": [
    "def get_cost_value(Y_hat, Y, derivative = False):\n",
    "    Y = one_hot(Y, n_outputs)\n",
    "    if not derivative:\n",
    "        eps = 1e-15\n",
    "        Y_hat = np.clip(Y_hat, eps, 1. - eps)\n",
    "        return -np.mean(Y * np.log(Y_hat.T) + (1. - Y) * np.log(1. - Y_hat.T))\n",
    "    else:\n",
    "        return Y_hat.T - Y"
   ]
  },
  {
   "cell_type": "markdown",
   "id": "170dbbdc",
   "metadata": {},
   "source": [
    "Load mnist dataset"
   ]
  },
  {
   "cell_type": "code",
   "execution_count": 5,
   "id": "c141ad97",
   "metadata": {},
   "outputs": [],
   "source": [
    "(X_train, y_train), (X_test, y_test) = mnist.load_data()"
   ]
  },
  {
   "cell_type": "markdown",
   "id": "ffe3a4ad",
   "metadata": {},
   "source": [
    "Flatten X values from (60000, 28, 28) to (60000, 784), so it could be easier for Neural Network to operate on"
   ]
  },
  {
   "cell_type": "code",
   "execution_count": 6,
   "id": "95d2f63d",
   "metadata": {},
   "outputs": [
    {
     "data": {
      "text/plain": [
       "(60000, 784)"
      ]
     },
     "execution_count": 6,
     "metadata": {},
     "output_type": "execute_result"
    }
   ],
   "source": [
    "X_train = X_train.reshape(60000, 784)\n",
    "X_train.shape"
   ]
  },
  {
   "cell_type": "markdown",
   "id": "dcaa2d23",
   "metadata": {},
   "source": [
    "Normalize: mnist pictures are created in gray scale with values from <0, 255> range. We need to normalize it by scaling to <0, 1> range."
   ]
  },
  {
   "cell_type": "code",
   "execution_count": 7,
   "id": "32719d9c",
   "metadata": {},
   "outputs": [],
   "source": [
    "X_train = X_train / 255"
   ]
  },
  {
   "cell_type": "markdown",
   "id": "b36d3ef5",
   "metadata": {},
   "source": [
    "Define Neural Network Architecture"
   ]
  },
  {
   "cell_type": "code",
   "execution_count": 8,
   "id": "eacfe097",
   "metadata": {},
   "outputs": [],
   "source": [
    "n_inputs = X_train.shape[1]\n",
    "n_outputs = len(set(y_train))\n",
    "\n",
    "network_layers = [\n",
    "    {\"nodes\": n_inputs},\n",
    "    {\"nodes\": 32, \"activation\": nnb.relu},\n",
    "    {\"nodes\": 64, \"activation\": nnb.relu},\n",
    "    {\"nodes\": n_outputs, \"activation\": nnb.softmax}\n",
    "]"
   ]
  },
  {
   "cell_type": "markdown",
   "id": "36e6109f",
   "metadata": {},
   "source": [
    "Train model"
   ]
  },
  {
   "cell_type": "code",
   "execution_count": 9,
   "id": "d97236c3",
   "metadata": {},
   "outputs": [
    {
     "name": "stdout",
     "output_type": "stream",
     "text": [
      "Iteration: 00000 - cost: 0.04573 - accuracy: 0.92297\n",
      "Iteration: 00001 - cost: 0.03404 - accuracy: 0.94332\n",
      "Iteration: 00002 - cost: 0.02968 - accuracy: 0.95180\n",
      "Iteration: 00003 - cost: 0.02710 - accuracy: 0.95577\n",
      "Iteration: 00004 - cost: 0.02325 - accuracy: 0.96403\n",
      "Iteration: 00005 - cost: 0.02087 - accuracy: 0.96725\n",
      "Iteration: 00006 - cost: 0.01753 - accuracy: 0.97355\n",
      "Iteration: 00007 - cost: 0.01655 - accuracy: 0.97547\n",
      "Iteration: 00008 - cost: 0.01578 - accuracy: 0.97640\n",
      "Iteration: 00009 - cost: 0.01397 - accuracy: 0.98022\n",
      "Iteration: 00010 - cost: 0.01359 - accuracy: 0.98093\n",
      "Iteration: 00011 - cost: 0.01430 - accuracy: 0.98018\n",
      "Iteration: 00012 - cost: 0.01264 - accuracy: 0.98258\n",
      "Iteration: 00013 - cost: 0.01288 - accuracy: 0.98258\n",
      "Iteration: 00014 - cost: 0.01167 - accuracy: 0.98532\n",
      "Iteration: 00015 - cost: 0.01179 - accuracy: 0.98457\n",
      "Iteration: 00016 - cost: 0.01232 - accuracy: 0.98320\n",
      "Iteration: 00017 - cost: 0.01261 - accuracy: 0.98165\n",
      "Iteration: 00018 - cost: 0.01136 - accuracy: 0.98578\n",
      "Iteration: 00019 - cost: 0.01198 - accuracy: 0.98423\n",
      "Iteration: 00020 - cost: 0.01091 - accuracy: 0.98638\n",
      "Iteration: 00021 - cost: 0.01194 - accuracy: 0.98423\n",
      "Iteration: 00022 - cost: 0.00981 - accuracy: 0.98947\n",
      "Iteration: 00023 - cost: 0.01093 - accuracy: 0.98670\n",
      "Iteration: 00024 - cost: 0.01140 - accuracy: 0.98485\n",
      "Iteration: 00025 - cost: 0.01017 - accuracy: 0.98800\n",
      "Iteration: 00026 - cost: 0.01034 - accuracy: 0.98802\n",
      "Iteration: 00027 - cost: 0.01081 - accuracy: 0.98673\n",
      "Iteration: 00028 - cost: 0.01084 - accuracy: 0.98738\n",
      "Iteration: 00029 - cost: 0.00936 - accuracy: 0.99038\n",
      "Iteration: 00030 - cost: 0.01062 - accuracy: 0.98832\n",
      "Iteration: 00031 - cost: 0.01043 - accuracy: 0.98913\n",
      "Iteration: 00032 - cost: 0.01194 - accuracy: 0.98620\n",
      "Iteration: 00033 - cost: 0.01182 - accuracy: 0.98517\n",
      "Iteration: 00034 - cost: 0.00999 - accuracy: 0.98973\n",
      "Iteration: 00035 - cost: 0.01052 - accuracy: 0.98867\n",
      "Iteration: 00036 - cost: 0.01108 - accuracy: 0.98777\n",
      "Iteration: 00037 - cost: 0.00975 - accuracy: 0.99072\n",
      "Iteration: 00038 - cost: 0.01101 - accuracy: 0.98885\n",
      "Iteration: 00039 - cost: 0.01074 - accuracy: 0.99000\n",
      "Iteration: 00040 - cost: 0.01159 - accuracy: 0.98748\n",
      "Iteration: 00041 - cost: 0.01070 - accuracy: 0.99042\n",
      "Iteration: 00042 - cost: 0.01156 - accuracy: 0.98903\n",
      "Iteration: 00043 - cost: 0.01062 - accuracy: 0.98992\n",
      "Iteration: 00044 - cost: 0.01070 - accuracy: 0.99030\n",
      "Iteration: 00045 - cost: 0.01092 - accuracy: 0.99023\n",
      "Iteration: 00046 - cost: 0.01135 - accuracy: 0.99017\n",
      "Iteration: 00047 - cost: 0.01103 - accuracy: 0.99048\n",
      "Iteration: 00048 - cost: 0.01123 - accuracy: 0.99028\n",
      "Iteration: 00049 - cost: 0.01157 - accuracy: 0.98908\n",
      "Iteration: 00050 - cost: 0.01148 - accuracy: 0.99043\n",
      "Iteration: 00051 - cost: 0.01157 - accuracy: 0.98927\n",
      "Iteration: 00052 - cost: 0.01208 - accuracy: 0.98913\n",
      "Iteration: 00053 - cost: 0.01137 - accuracy: 0.99078\n",
      "Iteration: 00054 - cost: 0.01189 - accuracy: 0.98967\n",
      "Iteration: 00055 - cost: 0.01299 - accuracy: 0.98692\n",
      "Iteration: 00056 - cost: 0.01238 - accuracy: 0.98913\n",
      "Iteration: 00057 - cost: 0.01641 - accuracy: 0.98303\n",
      "Iteration: 00058 - cost: 0.01158 - accuracy: 0.99063\n",
      "Iteration: 00059 - cost: 0.01231 - accuracy: 0.98985\n",
      "Iteration: 00060 - cost: 0.01325 - accuracy: 0.98947\n",
      "Iteration: 00061 - cost: 0.01187 - accuracy: 0.99030\n",
      "Iteration: 00062 - cost: 0.01136 - accuracy: 0.99090\n",
      "Iteration: 00063 - cost: 0.01147 - accuracy: 0.99105\n",
      "Iteration: 00064 - cost: 0.01215 - accuracy: 0.98995\n",
      "Iteration: 00065 - cost: 0.01230 - accuracy: 0.99052\n",
      "Iteration: 00066 - cost: 0.01151 - accuracy: 0.99118\n",
      "Iteration: 00067 - cost: 0.01218 - accuracy: 0.99017\n",
      "Iteration: 00068 - cost: 0.01289 - accuracy: 0.98955\n",
      "Iteration: 00069 - cost: 0.01211 - accuracy: 0.99062\n",
      "Iteration: 00070 - cost: 0.01184 - accuracy: 0.99087\n",
      "Iteration: 00071 - cost: 0.01187 - accuracy: 0.99087\n",
      "Iteration: 00072 - cost: 0.01195 - accuracy: 0.99078\n",
      "Iteration: 00073 - cost: 0.01181 - accuracy: 0.99097\n",
      "Iteration: 00074 - cost: 0.01196 - accuracy: 0.99072\n"
     ]
    }
   ],
   "source": [
    "nnb.SILENT = SILENT\n",
    "nnb.COST_FUNC = get_cost_value\n",
    "nnb.PROGRESS_FUNC = get_progress\n",
    "params_values = nnb.train(X_train, y_train.reshape((y_train.shape[0], 1)), \n",
    "                          network_layers, EPOCHS, LEARNING_RATE, SEED, BATCH_SIZE)"
   ]
  },
  {
   "cell_type": "markdown",
   "id": "11463729",
   "metadata": {},
   "source": [
    "Test accuracy"
   ]
  },
  {
   "cell_type": "code",
   "execution_count": 10,
   "id": "95ea93c0",
   "metadata": {},
   "outputs": [
    {
     "name": "stdout",
     "output_type": "stream",
     "text": [
      "Test set: cost: 0.03019 - accuracy: 0.96970\n"
     ]
    }
   ],
   "source": [
    "X_test = X_test.reshape(10000, 784)\n",
    "X_test = X_test / 255\n",
    "\n",
    "Y_test_hat, _ = nnb.full_forward_propagation(np.transpose(X_test), params_values, network_layers)\n",
    "print(\"Test set: \" + get_progress(Y_test_hat, np.transpose(y_test.reshape((y_test.shape[0], 1)))))"
   ]
  },
  {
   "cell_type": "markdown",
   "id": "4db40d8d",
   "metadata": {},
   "source": [
    "Save train result"
   ]
  },
  {
   "cell_type": "code",
   "execution_count": 11,
   "id": "f100f4d9",
   "metadata": {},
   "outputs": [],
   "source": [
    "nnb.save_model(network_layers, params_values, \"output\")"
   ]
  },
  {
   "cell_type": "markdown",
   "id": "da7ed8c9",
   "metadata": {},
   "source": []
  }
 ],
 "metadata": {
  "kernelspec": {
   "display_name": "Python 3 (ipykernel)",
   "language": "python",
   "name": "python3"
  },
  "language_info": {
   "codemirror_mode": {
    "name": "ipython",
    "version": 3
   },
   "file_extension": ".py",
   "mimetype": "text/x-python",
   "name": "python",
   "nbconvert_exporter": "python",
   "pygments_lexer": "ipython3",
   "version": "3.10.7"
  }
 },
 "nbformat": 4,
 "nbformat_minor": 5
}
