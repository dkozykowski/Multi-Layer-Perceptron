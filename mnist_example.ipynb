{
 "cells": [
  {
   "cell_type": "markdown",
   "id": "a087d24d",
   "metadata": {},
   "source": [
    "Load libraries"
   ]
  },
  {
   "cell_type": "code",
   "execution_count": 1,
   "id": "960c29af",
   "metadata": {},
   "outputs": [
    {
     "name": "stderr",
     "output_type": "stream",
     "text": [
      "C:\\Users\\dkozy\\AppData\\Local\\Programs\\Python\\Python310\\lib\\site-packages\\scipy\\__init__.py:146: UserWarning: A NumPy version >=1.17.3 and <1.25.0 is required for this version of SciPy (detected version 1.26.0\n",
      "  warnings.warn(f\"A NumPy version >={np_minversion} and <{np_maxversion}\"\n"
     ]
    }
   ],
   "source": [
    "import numpy as np\n",
    "import pandas as pd\n",
    "import neural_network_backbone as nnb\n",
    "from sklearn.metrics import accuracy_score \n",
    "from keras.datasets import mnist"
   ]
  },
  {
   "cell_type": "markdown",
   "id": "53a50e24",
   "metadata": {},
   "source": [
    "Define macros"
   ]
  },
  {
   "cell_type": "code",
   "execution_count": 2,
   "id": "82801831",
   "metadata": {},
   "outputs": [],
   "source": [
    "SILENT = False\n",
    "SEED = 10101\n",
    "EPOCHS = 75\n",
    "LEARNING_RATE = 0.1\n",
    "BATCH_SIZE = 100\n",
    "np.random.seed(SEED)"
   ]
  },
  {
   "cell_type": "markdown",
   "id": "c31ebbe0",
   "metadata": {},
   "source": [
    "Define accuracy helper functions"
   ]
  },
  {
   "cell_type": "code",
   "execution_count": 3,
   "id": "04df3d98",
   "metadata": {},
   "outputs": [],
   "source": [
    "def get_progress(Y_hat, Y):\n",
    "    cost = get_cost_value(Y_hat, Y)\n",
    "    accuracy = get_accuracy_value(Y_hat, Y)\n",
    "    return \"cost: {:.5f} - accuracy: {:.5f}\".format(cost, accuracy)\n",
    "\n",
    "def one_hot(Y, num_classes):\n",
    "    return np.squeeze(np.eye(num_classes)[Y.reshape(-1)])\n",
    "\n",
    "def convert_prob_into_class(probs):\n",
    "    return np.array([[1. if prob == max(v) else 0. for prob in v] for v in probs]).reshape(probs.shape)\n",
    "\n",
    "def get_accuracy_value(Y_hat, Y):\n",
    "    Y = one_hot(Y, n_outputs)\n",
    "    Y_hat_ = convert_prob_into_class(Y_hat.T)\n",
    "    return accuracy_score(Y, Y_hat_)"
   ]
  },
  {
   "cell_type": "code",
   "execution_count": 4,
   "id": "1023f7ba",
   "metadata": {},
   "outputs": [],
   "source": [
    "def get_cost_value(Y_hat, Y, derivative = False):\n",
    "    Y = one_hot(Y, n_outputs)\n",
    "    if not derivative:\n",
    "        eps = 1e-15\n",
    "        Y_hat = np.clip(Y_hat, eps, 1. - eps)\n",
    "        return -np.mean(Y * np.log(Y_hat.T) + (1. - Y) * np.log(1. - Y_hat.T))\n",
    "    else:\n",
    "        return Y_hat.T - Y"
   ]
  },
  {
   "cell_type": "markdown",
   "id": "170dbbdc",
   "metadata": {},
   "source": [
    "Load mnist dataset"
   ]
  },
  {
   "cell_type": "code",
   "execution_count": 5,
   "id": "c141ad97",
   "metadata": {},
   "outputs": [],
   "source": [
    "(X_train, y_train), (X_test, y_test) = mnist.load_data()"
   ]
  },
  {
   "cell_type": "markdown",
   "id": "ffe3a4ad",
   "metadata": {},
   "source": [
    "Flatten X values from (60000, 28, 28) to (60000, 784), so it could be easier for Neural Network to operate on"
   ]
  },
  {
   "cell_type": "code",
   "execution_count": 6,
   "id": "95d2f63d",
   "metadata": {},
   "outputs": [
    {
     "data": {
      "text/plain": [
       "(60000, 784)"
      ]
     },
     "execution_count": 6,
     "metadata": {},
     "output_type": "execute_result"
    }
   ],
   "source": [
    "X_train = X_train.reshape(60000, 784)\n",
    "X_train.shape"
   ]
  },
  {
   "cell_type": "markdown",
   "id": "dcaa2d23",
   "metadata": {},
   "source": [
    "Normalize: mnist pictures are created in gray scale with values from <0, 255> range. We need to normalize it by scaling to <0, 1> range."
   ]
  },
  {
   "cell_type": "code",
   "execution_count": 7,
   "id": "32719d9c",
   "metadata": {},
   "outputs": [],
   "source": [
    "X_train = X_train / 255"
   ]
  },
  {
   "cell_type": "markdown",
   "id": "b36d3ef5",
   "metadata": {},
   "source": [
    "Define Neural Network Architecture"
   ]
  },
  {
   "cell_type": "code",
   "execution_count": 8,
   "id": "eacfe097",
   "metadata": {},
   "outputs": [],
   "source": [
    "n_inputs = X_train.shape[1]\n",
    "n_outputs = len(set(y_train))\n",
    "\n",
    "network_layers = [\n",
    "    {\"nodes\": n_inputs},\n",
    "    {\"nodes\": 32, \"activation\": nnb.relu},\n",
    "    {\"nodes\": 64, \"activation\": nnb.relu},\n",
    "    {\"nodes\": n_outputs, \"activation\": nnb.softmax}\n",
    "]"
   ]
  },
  {
   "cell_type": "markdown",
   "id": "36e6109f",
   "metadata": {},
   "source": [
    "Train model"
   ]
  },
  {
   "cell_type": "code",
   "execution_count": 9,
   "id": "d97236c3",
   "metadata": {},
   "outputs": [
    {
     "name": "stdout",
     "output_type": "stream",
     "text": [
      "Iteration: 00000 - cost: 0.20783 - accuracy: 0.74088\n",
      "Iteration: 00001 - cost: 0.08600 - accuracy: 0.86327\n",
      "Iteration: 00002 - cost: 0.06923 - accuracy: 0.88288\n",
      "Iteration: 00003 - cost: 0.06253 - accuracy: 0.89238\n",
      "Iteration: 00004 - cost: 0.05777 - accuracy: 0.90415\n",
      "Iteration: 00005 - cost: 0.05411 - accuracy: 0.91038\n",
      "Iteration: 00006 - cost: 0.05090 - accuracy: 0.91655\n",
      "Iteration: 00007 - cost: 0.04843 - accuracy: 0.92187\n",
      "Iteration: 00008 - cost: 0.04610 - accuracy: 0.92480\n",
      "Iteration: 00009 - cost: 0.04384 - accuracy: 0.92935\n",
      "Iteration: 00010 - cost: 0.04199 - accuracy: 0.93143\n",
      "Iteration: 00011 - cost: 0.04065 - accuracy: 0.93463\n",
      "Iteration: 00012 - cost: 0.04008 - accuracy: 0.93612\n",
      "Iteration: 00013 - cost: 0.03787 - accuracy: 0.93898\n",
      "Iteration: 00014 - cost: 0.03678 - accuracy: 0.94080\n",
      "Iteration: 00015 - cost: 0.03606 - accuracy: 0.94317\n",
      "Iteration: 00016 - cost: 0.03491 - accuracy: 0.94430\n",
      "Iteration: 00017 - cost: 0.03439 - accuracy: 0.94487\n",
      "Iteration: 00018 - cost: 0.03323 - accuracy: 0.94748\n",
      "Iteration: 00019 - cost: 0.03227 - accuracy: 0.94902\n",
      "Iteration: 00020 - cost: 0.03189 - accuracy: 0.95040\n",
      "Iteration: 00021 - cost: 0.03131 - accuracy: 0.95155\n",
      "Iteration: 00022 - cost: 0.03115 - accuracy: 0.95118\n",
      "Iteration: 00023 - cost: 0.02975 - accuracy: 0.95418\n",
      "Iteration: 00024 - cost: 0.02920 - accuracy: 0.95485\n",
      "Iteration: 00025 - cost: 0.02876 - accuracy: 0.95545\n",
      "Iteration: 00026 - cost: 0.02818 - accuracy: 0.95725\n",
      "Iteration: 00027 - cost: 0.02777 - accuracy: 0.95767\n",
      "Iteration: 00028 - cost: 0.02758 - accuracy: 0.95810\n",
      "Iteration: 00029 - cost: 0.02689 - accuracy: 0.95875\n",
      "Iteration: 00030 - cost: 0.02640 - accuracy: 0.95977\n",
      "Iteration: 00031 - cost: 0.02604 - accuracy: 0.96067\n",
      "Iteration: 00032 - cost: 0.02546 - accuracy: 0.96173\n",
      "Iteration: 00033 - cost: 0.02504 - accuracy: 0.96265\n",
      "Iteration: 00034 - cost: 0.02491 - accuracy: 0.96305\n",
      "Iteration: 00035 - cost: 0.02435 - accuracy: 0.96417\n",
      "Iteration: 00036 - cost: 0.02400 - accuracy: 0.96460\n",
      "Iteration: 00037 - cost: 0.02359 - accuracy: 0.96567\n",
      "Iteration: 00038 - cost: 0.02339 - accuracy: 0.96622\n",
      "Iteration: 00039 - cost: 0.02295 - accuracy: 0.96640\n",
      "Iteration: 00040 - cost: 0.02284 - accuracy: 0.96708\n",
      "Iteration: 00041 - cost: 0.02245 - accuracy: 0.96730\n",
      "Iteration: 00042 - cost: 0.02208 - accuracy: 0.96810\n",
      "Iteration: 00043 - cost: 0.02194 - accuracy: 0.96847\n",
      "Iteration: 00044 - cost: 0.02160 - accuracy: 0.96878\n",
      "Iteration: 00045 - cost: 0.02129 - accuracy: 0.96952\n",
      "Iteration: 00046 - cost: 0.02130 - accuracy: 0.96917\n",
      "Iteration: 00047 - cost: 0.02099 - accuracy: 0.96987\n",
      "Iteration: 00048 - cost: 0.02070 - accuracy: 0.97060\n",
      "Iteration: 00049 - cost: 0.02032 - accuracy: 0.97137\n",
      "Iteration: 00050 - cost: 0.02046 - accuracy: 0.97103\n",
      "Iteration: 00051 - cost: 0.01994 - accuracy: 0.97217\n",
      "Iteration: 00052 - cost: 0.01994 - accuracy: 0.97253\n",
      "Iteration: 00053 - cost: 0.01962 - accuracy: 0.97257\n",
      "Iteration: 00054 - cost: 0.01964 - accuracy: 0.97265\n",
      "Iteration: 00055 - cost: 0.01941 - accuracy: 0.97283\n",
      "Iteration: 00056 - cost: 0.01934 - accuracy: 0.97313\n",
      "Iteration: 00057 - cost: 0.01922 - accuracy: 0.97340\n",
      "Iteration: 00058 - cost: 0.01895 - accuracy: 0.97383\n",
      "Iteration: 00059 - cost: 0.01885 - accuracy: 0.97367\n",
      "Iteration: 00060 - cost: 0.01909 - accuracy: 0.97287\n",
      "Iteration: 00061 - cost: 0.01848 - accuracy: 0.97478\n",
      "Iteration: 00062 - cost: 0.01837 - accuracy: 0.97495\n",
      "Iteration: 00063 - cost: 0.01839 - accuracy: 0.97470\n",
      "Iteration: 00064 - cost: 0.01801 - accuracy: 0.97550\n",
      "Iteration: 00065 - cost: 0.01803 - accuracy: 0.97550\n",
      "Iteration: 00066 - cost: 0.01828 - accuracy: 0.97525\n",
      "Iteration: 00067 - cost: 0.01783 - accuracy: 0.97572\n",
      "Iteration: 00068 - cost: 0.01783 - accuracy: 0.97587\n",
      "Iteration: 00069 - cost: 0.01763 - accuracy: 0.97648\n",
      "Iteration: 00070 - cost: 0.01764 - accuracy: 0.97587\n",
      "Iteration: 00071 - cost: 0.01735 - accuracy: 0.97708\n",
      "Iteration: 00072 - cost: 0.01720 - accuracy: 0.97655\n",
      "Iteration: 00073 - cost: 0.01717 - accuracy: 0.97692\n",
      "Iteration: 00074 - cost: 0.01726 - accuracy: 0.97648\n"
     ]
    }
   ],
   "source": [
    "nnb.SILENT = SILENT\n",
    "nnb.COST_FUNC = get_cost_value\n",
    "nnb.PROGRESS_FUNC = get_progress\n",
    "params_values = nnb.train(X_train, y_train.reshape((y_train.shape[0], 1)), \n",
    "                          network_layers, EPOCHS, LEARNING_RATE, SEED, BATCH_SIZE)"
   ]
  },
  {
   "cell_type": "markdown",
   "id": "4db40d8d",
   "metadata": {},
   "source": [
    "Save train result"
   ]
  },
  {
   "cell_type": "code",
   "execution_count": null,
   "id": "53d23b75",
   "metadata": {},
   "outputs": [],
   "source": []
  },
  {
   "cell_type": "markdown",
   "id": "11463729",
   "metadata": {},
   "source": [
    "Test accuracy"
   ]
  },
  {
   "cell_type": "code",
   "execution_count": 10,
   "id": "95ea93c0",
   "metadata": {},
   "outputs": [
    {
     "name": "stdout",
     "output_type": "stream",
     "text": [
      "Test set: cost: 0.02465 - accuracy: 0.96140\n"
     ]
    }
   ],
   "source": [
    "X_test = X_test.reshape(10000, 784)\n",
    "X_test = X_test / 255\n",
    "\n",
    "Y_test_hat, _ = nnb.full_forward_propagation(np.transpose(X_test), params_values, network_layers)\n",
    "print(\"Test set: \" + get_progress(Y_test_hat, np.transpose(y_test.reshape((y_test.shape[0], 1)))))"
   ]
  },
  {
   "cell_type": "code",
   "execution_count": null,
   "id": "1137a8c7",
   "metadata": {},
   "outputs": [],
   "source": []
  }
 ],
 "metadata": {
  "kernelspec": {
   "display_name": "Python 3 (ipykernel)",
   "language": "python",
   "name": "python3"
  },
  "language_info": {
   "codemirror_mode": {
    "name": "ipython",
    "version": 3
   },
   "file_extension": ".py",
   "mimetype": "text/x-python",
   "name": "python",
   "nbconvert_exporter": "python",
   "pygments_lexer": "ipython3",
   "version": "3.10.7"
  }
 },
 "nbformat": 4,
 "nbformat_minor": 5
}
